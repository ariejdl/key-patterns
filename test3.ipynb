{
 "cells": [
  {
   "cell_type": "code",
   "execution_count": 66,
   "id": "sixth-history",
   "metadata": {},
   "outputs": [],
   "source": [
    "import cairo\n",
    "import IPython.display\n",
    "from io import BytesIO\n",
    "import numpy as np\n",
    "\n",
    "class Display():\n",
    "    def __init__(self, w, h):\n",
    "        self.svgio = BytesIO()\n",
    "        self.w = w\n",
    "        self.h = h\n",
    "        \n",
    "    def __enter__(self):\n",
    "        surface = cairo.SVGSurface(self.svgio, self.w, self.h)\n",
    "        context = cairo.Context(surface)\n",
    "        self.surface = surface\n",
    "        self.context = context\n",
    "        return self.context\n",
    "    \n",
    "    def show(self):\n",
    "        self.surface.finish()\n",
    "        self.surface.flush()\n",
    "        return IPython.display.SVG(data=self.svgio.getvalue())\n",
    "        \n",
    "    def __exit__(self, type, value, traceback):\n",
    "        pass"
   ]
  },
  {
   "cell_type": "code",
   "execution_count": 178,
   "id": "limiting-overall",
   "metadata": {},
   "outputs": [],
   "source": [
    "def diamond_grid_pos(w, h, size):\n",
    "    x1 = np.concatenate([np.full(h + 1, 0), np.arange(size, w * size, size)])\n",
    "    y1 = np.concatenate([np.arange(0, h * size, size), np.full(w, h * size)])\n",
    "    x2 = np.concatenate([np.arange(0, w * size, size), np.full(h, w * size)])\n",
    "    y2 = np.concatenate([np.full(w, 0), np.arange(0, size * h, size)])\n",
    "    return np.array([x1, y1, x2, y2]).T\n",
    "\n",
    "def diamond_grid_neg(w, h, size):\n",
    "    x1 = np.concatenate([np.full(h + 1, 0), np.arange(size, w * size, size)])\n",
    "    y1 = np.concatenate([np.arange(h * size, 0, -size), np.full(w, 0)])\n",
    "    x2 = np.concatenate([np.arange(0, w * size, size), np.full(h, w * size)])\n",
    "    y2 = np.concatenate([np.full(w, h * size), np.arange(h * size, 0, -size)])\n",
    "    return np.array([x1, y1, x2, y2]).T\n",
    "\n",
    "def diamond_grid(w, h, size):\n",
    "    return np.concatenate([\n",
    "        diamond_grid_pos(w, h, size),\n",
    "        diamond_grid_neg(w, h, size)\n",
    "    ])\n",
    "\n",
    "def square_grid(w, h, size):\n",
    "    pass"
   ]
  },
  {
   "cell_type": "code",
   "execution_count": 183,
   "id": "piano-boost",
   "metadata": {},
   "outputs": [
    {
     "data": {
      "image/svg+xml": [
       "<svg xmlns=\"http://www.w3.org/2000/svg\" xmlns:xlink=\"http://www.w3.org/1999/xlink\" width=\"200pt\" height=\"200pt\" viewBox=\"0 0 200 200\" version=\"1.1\">\n",
       "<g id=\"surface336\">\n",
       "<path style=\"fill:none;stroke-width:0.1;stroke-linecap:butt;stroke-linejoin:miter;stroke:rgb(0%,0%,0%);stroke-opacity:1;stroke-miterlimit:10;\" d=\"M 0 0 L 0 0 \"/>\n",
       "<path style=\"fill:none;stroke-width:0.1;stroke-linecap:butt;stroke-linejoin:miter;stroke:rgb(0%,0%,0%);stroke-opacity:1;stroke-miterlimit:10;\" d=\"M 0 10 L 10 0 \"/>\n",
       "<path style=\"fill:none;stroke-width:0.1;stroke-linecap:butt;stroke-linejoin:miter;stroke:rgb(0%,0%,0%);stroke-opacity:1;stroke-miterlimit:10;\" d=\"M 0 20 L 20 0 \"/>\n",
       "<path style=\"fill:none;stroke-width:0.1;stroke-linecap:butt;stroke-linejoin:miter;stroke:rgb(0%,0%,0%);stroke-opacity:1;stroke-miterlimit:10;\" d=\"M 0 30 L 30 0 \"/>\n",
       "<path style=\"fill:none;stroke-width:0.1;stroke-linecap:butt;stroke-linejoin:miter;stroke:rgb(0%,0%,0%);stroke-opacity:1;stroke-miterlimit:10;\" d=\"M 0 40 L 40 0 \"/>\n",
       "<path style=\"fill:none;stroke-width:0.1;stroke-linecap:butt;stroke-linejoin:miter;stroke:rgb(0%,0%,0%);stroke-opacity:1;stroke-miterlimit:10;\" d=\"M 0 50 L 50 0 \"/>\n",
       "<path style=\"fill:none;stroke-width:0.1;stroke-linecap:butt;stroke-linejoin:miter;stroke:rgb(0%,0%,0%);stroke-opacity:1;stroke-miterlimit:10;\" d=\"M 0 60 L 60 0 \"/>\n",
       "<path style=\"fill:none;stroke-width:0.1;stroke-linecap:butt;stroke-linejoin:miter;stroke:rgb(0%,0%,0%);stroke-opacity:1;stroke-miterlimit:10;\" d=\"M 0 70 L 70 0 \"/>\n",
       "<path style=\"fill:none;stroke-width:0.1;stroke-linecap:butt;stroke-linejoin:miter;stroke:rgb(0%,0%,0%);stroke-opacity:1;stroke-miterlimit:10;\" d=\"M 0 80 L 80 0 \"/>\n",
       "<path style=\"fill:none;stroke-width:0.1;stroke-linecap:butt;stroke-linejoin:miter;stroke:rgb(0%,0%,0%);stroke-opacity:1;stroke-miterlimit:10;\" d=\"M 0 90 L 90 0 \"/>\n",
       "<path style=\"fill:none;stroke-width:0.1;stroke-linecap:butt;stroke-linejoin:miter;stroke:rgb(0%,0%,0%);stroke-opacity:1;stroke-miterlimit:10;\" d=\"M 0 100 L 100 0 \"/>\n",
       "<path style=\"fill:none;stroke-width:0.1;stroke-linecap:butt;stroke-linejoin:miter;stroke:rgb(0%,0%,0%);stroke-opacity:1;stroke-miterlimit:10;\" d=\"M 10 100 L 110 0 \"/>\n",
       "<path style=\"fill:none;stroke-width:0.1;stroke-linecap:butt;stroke-linejoin:miter;stroke:rgb(0%,0%,0%);stroke-opacity:1;stroke-miterlimit:10;\" d=\"M 20 100 L 120 0 \"/>\n",
       "<path style=\"fill:none;stroke-width:0.1;stroke-linecap:butt;stroke-linejoin:miter;stroke:rgb(0%,0%,0%);stroke-opacity:1;stroke-miterlimit:10;\" d=\"M 30 100 L 130 0 \"/>\n",
       "<path style=\"fill:none;stroke-width:0.1;stroke-linecap:butt;stroke-linejoin:miter;stroke:rgb(0%,0%,0%);stroke-opacity:1;stroke-miterlimit:10;\" d=\"M 40 100 L 140 0 \"/>\n",
       "<path style=\"fill:none;stroke-width:0.1;stroke-linecap:butt;stroke-linejoin:miter;stroke:rgb(0%,0%,0%);stroke-opacity:1;stroke-miterlimit:10;\" d=\"M 50 100 L 150 0 \"/>\n",
       "<path style=\"fill:none;stroke-width:0.1;stroke-linecap:butt;stroke-linejoin:miter;stroke:rgb(0%,0%,0%);stroke-opacity:1;stroke-miterlimit:10;\" d=\"M 60 100 L 150 10 \"/>\n",
       "<path style=\"fill:none;stroke-width:0.1;stroke-linecap:butt;stroke-linejoin:miter;stroke:rgb(0%,0%,0%);stroke-opacity:1;stroke-miterlimit:10;\" d=\"M 70 100 L 150 20 \"/>\n",
       "<path style=\"fill:none;stroke-width:0.1;stroke-linecap:butt;stroke-linejoin:miter;stroke:rgb(0%,0%,0%);stroke-opacity:1;stroke-miterlimit:10;\" d=\"M 80 100 L 150 30 \"/>\n",
       "<path style=\"fill:none;stroke-width:0.1;stroke-linecap:butt;stroke-linejoin:miter;stroke:rgb(0%,0%,0%);stroke-opacity:1;stroke-miterlimit:10;\" d=\"M 90 100 L 150 40 \"/>\n",
       "<path style=\"fill:none;stroke-width:0.1;stroke-linecap:butt;stroke-linejoin:miter;stroke:rgb(0%,0%,0%);stroke-opacity:1;stroke-miterlimit:10;\" d=\"M 100 100 L 150 50 \"/>\n",
       "<path style=\"fill:none;stroke-width:0.1;stroke-linecap:butt;stroke-linejoin:miter;stroke:rgb(0%,0%,0%);stroke-opacity:1;stroke-miterlimit:10;\" d=\"M 110 100 L 150 60 \"/>\n",
       "<path style=\"fill:none;stroke-width:0.1;stroke-linecap:butt;stroke-linejoin:miter;stroke:rgb(0%,0%,0%);stroke-opacity:1;stroke-miterlimit:10;\" d=\"M 120 100 L 150 70 \"/>\n",
       "<path style=\"fill:none;stroke-width:0.1;stroke-linecap:butt;stroke-linejoin:miter;stroke:rgb(0%,0%,0%);stroke-opacity:1;stroke-miterlimit:10;\" d=\"M 130 100 L 150 80 \"/>\n",
       "<path style=\"fill:none;stroke-width:0.1;stroke-linecap:butt;stroke-linejoin:miter;stroke:rgb(0%,0%,0%);stroke-opacity:1;stroke-miterlimit:10;\" d=\"M 140 100 L 150 90 \"/>\n",
       "<path style=\"fill:none;stroke-width:0.1;stroke-linecap:butt;stroke-linejoin:miter;stroke:rgb(0%,0%,0%);stroke-opacity:1;stroke-miterlimit:10;\" d=\"M 0 100 L 0 100 \"/>\n",
       "<path style=\"fill:none;stroke-width:0.1;stroke-linecap:butt;stroke-linejoin:miter;stroke:rgb(0%,0%,0%);stroke-opacity:1;stroke-miterlimit:10;\" d=\"M 0 90 L 10 100 \"/>\n",
       "<path style=\"fill:none;stroke-width:0.1;stroke-linecap:butt;stroke-linejoin:miter;stroke:rgb(0%,0%,0%);stroke-opacity:1;stroke-miterlimit:10;\" d=\"M 0 80 L 20 100 \"/>\n",
       "<path style=\"fill:none;stroke-width:0.1;stroke-linecap:butt;stroke-linejoin:miter;stroke:rgb(0%,0%,0%);stroke-opacity:1;stroke-miterlimit:10;\" d=\"M 0 70 L 30 100 \"/>\n",
       "<path style=\"fill:none;stroke-width:0.1;stroke-linecap:butt;stroke-linejoin:miter;stroke:rgb(0%,0%,0%);stroke-opacity:1;stroke-miterlimit:10;\" d=\"M 0 60 L 40 100 \"/>\n",
       "<path style=\"fill:none;stroke-width:0.1;stroke-linecap:butt;stroke-linejoin:miter;stroke:rgb(0%,0%,0%);stroke-opacity:1;stroke-miterlimit:10;\" d=\"M 0 50 L 50 100 \"/>\n",
       "<path style=\"fill:none;stroke-width:0.1;stroke-linecap:butt;stroke-linejoin:miter;stroke:rgb(0%,0%,0%);stroke-opacity:1;stroke-miterlimit:10;\" d=\"M 0 40 L 60 100 \"/>\n",
       "<path style=\"fill:none;stroke-width:0.1;stroke-linecap:butt;stroke-linejoin:miter;stroke:rgb(0%,0%,0%);stroke-opacity:1;stroke-miterlimit:10;\" d=\"M 0 30 L 70 100 \"/>\n",
       "<path style=\"fill:none;stroke-width:0.1;stroke-linecap:butt;stroke-linejoin:miter;stroke:rgb(0%,0%,0%);stroke-opacity:1;stroke-miterlimit:10;\" d=\"M 0 20 L 80 100 \"/>\n",
       "<path style=\"fill:none;stroke-width:0.1;stroke-linecap:butt;stroke-linejoin:miter;stroke:rgb(0%,0%,0%);stroke-opacity:1;stroke-miterlimit:10;\" d=\"M 0 10 L 90 100 \"/>\n",
       "<path style=\"fill:none;stroke-width:0.1;stroke-linecap:butt;stroke-linejoin:miter;stroke:rgb(0%,0%,0%);stroke-opacity:1;stroke-miterlimit:10;\" d=\"M 0 0 L 100 100 \"/>\n",
       "<path style=\"fill:none;stroke-width:0.1;stroke-linecap:butt;stroke-linejoin:miter;stroke:rgb(0%,0%,0%);stroke-opacity:1;stroke-miterlimit:10;\" d=\"M 10 0 L 110 100 \"/>\n",
       "<path style=\"fill:none;stroke-width:0.1;stroke-linecap:butt;stroke-linejoin:miter;stroke:rgb(0%,0%,0%);stroke-opacity:1;stroke-miterlimit:10;\" d=\"M 20 0 L 120 100 \"/>\n",
       "<path style=\"fill:none;stroke-width:0.1;stroke-linecap:butt;stroke-linejoin:miter;stroke:rgb(0%,0%,0%);stroke-opacity:1;stroke-miterlimit:10;\" d=\"M 30 0 L 130 100 \"/>\n",
       "<path style=\"fill:none;stroke-width:0.1;stroke-linecap:butt;stroke-linejoin:miter;stroke:rgb(0%,0%,0%);stroke-opacity:1;stroke-miterlimit:10;\" d=\"M 40 0 L 140 100 \"/>\n",
       "<path style=\"fill:none;stroke-width:0.1;stroke-linecap:butt;stroke-linejoin:miter;stroke:rgb(0%,0%,0%);stroke-opacity:1;stroke-miterlimit:10;\" d=\"M 50 0 L 150 100 \"/>\n",
       "<path style=\"fill:none;stroke-width:0.1;stroke-linecap:butt;stroke-linejoin:miter;stroke:rgb(0%,0%,0%);stroke-opacity:1;stroke-miterlimit:10;\" d=\"M 60 0 L 150 90 \"/>\n",
       "<path style=\"fill:none;stroke-width:0.1;stroke-linecap:butt;stroke-linejoin:miter;stroke:rgb(0%,0%,0%);stroke-opacity:1;stroke-miterlimit:10;\" d=\"M 70 0 L 150 80 \"/>\n",
       "<path style=\"fill:none;stroke-width:0.1;stroke-linecap:butt;stroke-linejoin:miter;stroke:rgb(0%,0%,0%);stroke-opacity:1;stroke-miterlimit:10;\" d=\"M 80 0 L 150 70 \"/>\n",
       "<path style=\"fill:none;stroke-width:0.1;stroke-linecap:butt;stroke-linejoin:miter;stroke:rgb(0%,0%,0%);stroke-opacity:1;stroke-miterlimit:10;\" d=\"M 90 0 L 150 60 \"/>\n",
       "<path style=\"fill:none;stroke-width:0.1;stroke-linecap:butt;stroke-linejoin:miter;stroke:rgb(0%,0%,0%);stroke-opacity:1;stroke-miterlimit:10;\" d=\"M 100 0 L 150 50 \"/>\n",
       "<path style=\"fill:none;stroke-width:0.1;stroke-linecap:butt;stroke-linejoin:miter;stroke:rgb(0%,0%,0%);stroke-opacity:1;stroke-miterlimit:10;\" d=\"M 110 0 L 150 40 \"/>\n",
       "<path style=\"fill:none;stroke-width:0.1;stroke-linecap:butt;stroke-linejoin:miter;stroke:rgb(0%,0%,0%);stroke-opacity:1;stroke-miterlimit:10;\" d=\"M 120 0 L 150 30 \"/>\n",
       "<path style=\"fill:none;stroke-width:0.1;stroke-linecap:butt;stroke-linejoin:miter;stroke:rgb(0%,0%,0%);stroke-opacity:1;stroke-miterlimit:10;\" d=\"M 130 0 L 150 20 \"/>\n",
       "<path style=\"fill:none;stroke-width:0.1;stroke-linecap:butt;stroke-linejoin:miter;stroke:rgb(0%,0%,0%);stroke-opacity:1;stroke-miterlimit:10;\" d=\"M 140 0 L 150 10 \"/>\n",
       "</g>\n",
       "</svg>"
      ],
      "text/plain": [
       "<IPython.core.display.SVG object>"
      ]
     },
     "execution_count": 183,
     "metadata": {},
     "output_type": "execute_result"
    }
   ],
   "source": [
    "display = Display(200, 200)\n",
    "\n",
    "with display as context:\n",
    "    #context.scale(200, 200)\n",
    "    context.set_line_width(0.1)\n",
    "    #context.set_source_rgba(1, 1, 1, 1)\n",
    "    for row in diamond_grid(15, 10, 10):\n",
    "        x1, y1, x2, y2 = tuple(row)\n",
    "        context.move_to(x1, y1)\n",
    "        context.line_to(x2, y2)\n",
    "        context.stroke()\n",
    "        \n",
    "display.show()"
   ]
  },
  {
   "cell_type": "code",
   "execution_count": null,
   "id": "pediatric-charger",
   "metadata": {},
   "outputs": [],
   "source": []
  }
 ],
 "metadata": {
  "kernelspec": {
   "display_name": "Python 3",
   "language": "python",
   "name": "python3"
  },
  "language_info": {
   "codemirror_mode": {
    "name": "ipython",
    "version": 3
   },
   "file_extension": ".py",
   "mimetype": "text/x-python",
   "name": "python",
   "nbconvert_exporter": "python",
   "pygments_lexer": "ipython3",
   "version": "3.8.2"
  }
 },
 "nbformat": 4,
 "nbformat_minor": 5
}
