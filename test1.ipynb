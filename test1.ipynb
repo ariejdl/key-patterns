{
 "cells": [
  {
   "cell_type": "code",
   "execution_count": 1,
   "metadata": {},
   "outputs": [],
   "source": [
    "import networkx as nx\n",
    "import numpy as np\n",
    "import matplotlib.pyplot as plt"
   ]
  },
  {
   "cell_type": "code",
   "execution_count": 2,
   "metadata": {},
   "outputs": [],
   "source": [
    "PatNode = np.array\n",
    "\n",
    "# left, right, up, down\n",
    "moves = {\n",
    "    'l': PatNode([-2, 0]),\n",
    "    'r': PatNode([2, 0]),\n",
    "    'u': PatNode([0, 2]),\n",
    "    'd': PatNode([0, -2]),\n",
    "\n",
    "    'r_u': PatNode([2, 2]),\n",
    "    'r_d': PatNode([2, -2]),\n",
    "    'l_u': PatNode([-2, 2]),\n",
    "    'l_d': PatNode([-2, -2]),\n",
    "}\n",
    "\n",
    "class PatCursor():\n",
    "    def __init__(self, G, start):\n",
    "        self.G = G\n",
    "        self.cursor = start\n",
    "        \n",
    "    def move(self, other, half=False):\n",
    "        if half:\n",
    "            new_cursor = (self.cursor + other / 2).astype(int)\n",
    "        else:\n",
    "            new_cursor = self.cursor + other\n",
    "        self.G.add_edge(tuple(self.cursor), tuple(new_cursor))\n",
    "        self.cursor = new_cursor\n",
    "        \n",
    "    def fork(self):\n",
    "        return (PatCursor(self.G, self.cursor),\n",
    "                PatCursor(self.G, self.cursor))\n"
   ]
  },
  {
   "cell_type": "code",
   "execution_count": 3,
   "metadata": {},
   "outputs": [],
   "source": [
    "rep = lambda g: nx.linalg.graphmatrix.adjacency_matrix(g).todense()"
   ]
  },
  {
   "cell_type": "code",
   "execution_count": 4,
   "metadata": {},
   "outputs": [],
   "source": [
    "def show_pat(G, lw=10, wh=[1,1]):\n",
    "    min_x = min(G.nodes, key=lambda v: v[0])[0]\n",
    "    max_x = max(G.nodes, key=lambda v: v[0])[0]\n",
    "    min_y = min(G.nodes, key=lambda v: v[1])[1]\n",
    "    max_y = max(G.nodes, key=lambda v: v[1])[1]\n",
    "    \n",
    "    plt.rcParams['figure.figsize'] = wh\n",
    "    plt.xlim(min_x - 2, max_x + 2)\n",
    "    plt.ylim(min_y - 2, max_y + 2)\n",
    "    \n",
    "    \n",
    "    for (x1,y1), (x2,y2) in G.edges:\n",
    "        line = plt.Line2D((x1,x2), (y1,y2), lw=lw, c='white')\n",
    "        plt.gca().add_line(line)\n",
    "        \n",
    "    plt.gca().set_facecolor(\"black\")\n",
    "\n",
    "    #plt.axis('off')\n",
    "    plt.show()  \n"
   ]
  },
  {
   "cell_type": "code",
   "execution_count": 5,
   "metadata": {},
   "outputs": [],
   "source": [
    "def apply_pat(parts, c=None):\n",
    "    if c is None:\n",
    "        c = PatCursor(nx.Graph(), PatNode([0,0]))\n",
    "    \n",
    "    for line in parts.split('\\n'):\n",
    "        for move in line.strip().split(' '):\n",
    "            if not move:\n",
    "                continue\n",
    "            half = move.endswith('%')\n",
    "            move = move.replace('%', '')\n",
    "            c.move(moves[move], half=half)\n",
    "        \n",
    "    return c"
   ]
  },
  {
   "cell_type": "code",
   "execution_count": 6,
   "metadata": {},
   "outputs": [
    {
     "data": {
      "image/png": "[encoded data removed]",
      "text/plain": [
       "<Figure size 2160x216 with 1 Axes>"
      ]
     },
     "metadata": {
      "needs_background": "light"
     },
     "output_type": "display_data"
    }
   ],
   "source": [
    "def basic_pat(c):\n",
    "    return apply_pat('''\n",
    "        r r r\n",
    "        r_u% r_u\n",
    "        l_u\n",
    "        l_d\n",
    "        l_u l_u l_u%\n",
    "        r r r r r r r r\n",
    "        r_d% r_d l_d l_u l_d l_d l_d%\n",
    "        r r r r r\n",
    "    ''', c)\n",
    "\n",
    "c = None\n",
    "for i in range(6):\n",
    "    c = basic_pat(c)\n",
    "show_pat(c.G, lw=30, wh=[30, 3])"
   ]
  },
  {
   "cell_type": "code",
   "execution_count": null,
   "metadata": {},
   "outputs": [],
   "source": []
  }
 ],
 "metadata": {
  "kernelspec": {
   "display_name": "Python 3",
   "language": "python",
   "name": "python3"
  },
  "language_info": {
   "codemirror_mode": {
    "name": "ipython",
    "version": 3
   },
   "file_extension": ".py",
   "mimetype": "text/x-python",
   "name": "python",
   "nbconvert_exporter": "python",
   "pygments_lexer": "ipython3",
   "version": "3.7.2"
  }
 },
 "nbformat": 4,
 "nbformat_minor": 2
}
